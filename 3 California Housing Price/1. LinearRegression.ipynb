{
 "cells": [
  {
   "cell_type": "code",
   "execution_count": 28,
   "id": "00b27e63",
   "metadata": {},
   "outputs": [],
   "source": [
    "from sklearn.linear_model import LinearRegression as LR\n",
    "import pandas as pd\n",
    "from sklearn.model_selection import train_test_split\n",
    "from sklearn.metrics import confusion_matrix\n",
    "import seaborn as sns\n",
    "from sklearn.metrics import classification_report\n",
    "\n",
    "house=pd.read_csv(\"/Users/manancy/Downloads/Nancy 2/工作/Carlo /尝试的业务/Case 2/3 California Housing Price/housing-Nancy.csv\")\n"
   ]
  },
  {
   "cell_type": "code",
   "execution_count": 31,
   "id": "3a056f82",
   "metadata": {},
   "outputs": [],
   "source": [
    "x=house.iloc[:,:-1]\n",
    "y=house.loc[:,\"MedHouseVal\"]\n",
    "Xtrain, Xtest, Ytrain, Ytest = train_test_split(x,y,test_size=0.3,random_state=30)\n",
    "for i in [Xtrain, Xtest]:\n",
    "    i.index = range(i.shape[0])"
   ]
  },
  {
   "cell_type": "code",
   "execution_count": 32,
   "id": "f4d1ae85",
   "metadata": {},
   "outputs": [
    {
     "data": {
      "text/html": [
       "<div>\n",
       "<style scoped>\n",
       "    .dataframe tbody tr th:only-of-type {\n",
       "        vertical-align: middle;\n",
       "    }\n",
       "\n",
       "    .dataframe tbody tr th {\n",
       "        vertical-align: top;\n",
       "    }\n",
       "\n",
       "    .dataframe thead th {\n",
       "        text-align: right;\n",
       "    }\n",
       "</style>\n",
       "<table border=\"1\" class=\"dataframe\">\n",
       "  <thead>\n",
       "    <tr style=\"text-align: right;\">\n",
       "      <th></th>\n",
       "      <th>Unnamed: 0</th>\n",
       "      <th>MedInc</th>\n",
       "      <th>HouseAge</th>\n",
       "      <th>AveRooms</th>\n",
       "      <th>AveBedrms</th>\n",
       "      <th>Population</th>\n",
       "      <th>AveOccup</th>\n",
       "      <th>Latitude</th>\n",
       "      <th>Longitude</th>\n",
       "    </tr>\n",
       "  </thead>\n",
       "  <tbody>\n",
       "    <tr>\n",
       "      <th>0</th>\n",
       "      <td>19449</td>\n",
       "      <td>2.6567</td>\n",
       "      <td>20.0</td>\n",
       "      <td>5.295868</td>\n",
       "      <td>1.033058</td>\n",
       "      <td>2016.0</td>\n",
       "      <td>3.332231</td>\n",
       "      <td>37.68</td>\n",
       "      <td>-121.03</td>\n",
       "    </tr>\n",
       "    <tr>\n",
       "      <th>1</th>\n",
       "      <td>10452</td>\n",
       "      <td>5.0877</td>\n",
       "      <td>26.0</td>\n",
       "      <td>6.097059</td>\n",
       "      <td>1.088235</td>\n",
       "      <td>952.0</td>\n",
       "      <td>2.800000</td>\n",
       "      <td>33.46</td>\n",
       "      <td>-117.66</td>\n",
       "    </tr>\n",
       "    <tr>\n",
       "      <th>2</th>\n",
       "      <td>18982</td>\n",
       "      <td>4.5987</td>\n",
       "      <td>12.0</td>\n",
       "      <td>6.527646</td>\n",
       "      <td>1.121643</td>\n",
       "      <td>2087.0</td>\n",
       "      <td>3.296998</td>\n",
       "      <td>38.26</td>\n",
       "      <td>-122.01</td>\n",
       "    </tr>\n",
       "    <tr>\n",
       "      <th>3</th>\n",
       "      <td>8187</td>\n",
       "      <td>7.9767</td>\n",
       "      <td>16.0</td>\n",
       "      <td>7.065603</td>\n",
       "      <td>1.005319</td>\n",
       "      <td>1327.0</td>\n",
       "      <td>2.352837</td>\n",
       "      <td>33.78</td>\n",
       "      <td>-118.11</td>\n",
       "    </tr>\n",
       "    <tr>\n",
       "      <th>4</th>\n",
       "      <td>15759</td>\n",
       "      <td>3.0766</td>\n",
       "      <td>52.0</td>\n",
       "      <td>4.277143</td>\n",
       "      <td>1.051429</td>\n",
       "      <td>1428.0</td>\n",
       "      <td>2.040000</td>\n",
       "      <td>37.77</td>\n",
       "      <td>-122.44</td>\n",
       "    </tr>\n",
       "  </tbody>\n",
       "</table>\n",
       "</div>"
      ],
      "text/plain": [
       "   Unnamed: 0  MedInc  HouseAge  AveRooms  AveBedrms  Population  AveOccup  \\\n",
       "0       19449  2.6567      20.0  5.295868   1.033058      2016.0  3.332231   \n",
       "1       10452  5.0877      26.0  6.097059   1.088235       952.0  2.800000   \n",
       "2       18982  4.5987      12.0  6.527646   1.121643      2087.0  3.296998   \n",
       "3        8187  7.9767      16.0  7.065603   1.005319      1327.0  2.352837   \n",
       "4       15759  3.0766      52.0  4.277143   1.051429      1428.0  2.040000   \n",
       "\n",
       "   Latitude  Longitude  \n",
       "0     37.68    -121.03  \n",
       "1     33.46    -117.66  \n",
       "2     38.26    -122.01  \n",
       "3     33.78    -118.11  \n",
       "4     37.77    -122.44  "
      ]
     },
     "execution_count": 32,
     "metadata": {},
     "output_type": "execute_result"
    }
   ],
   "source": [
    "Xtest.head()"
   ]
  },
  {
   "cell_type": "code",
   "execution_count": 33,
   "id": "29d72d30",
   "metadata": {},
   "outputs": [],
   "source": [
    "#Xtest.head()"
   ]
  },
  {
   "cell_type": "code",
   "execution_count": 34,
   "id": "f02c3a3f",
   "metadata": {},
   "outputs": [],
   "source": [
    "reg = LR().fit(Xtrain, Ytrain)  \n",
    "y_pred = reg.predict(Xtest) "
   ]
  },
  {
   "cell_type": "code",
   "execution_count": 35,
   "id": "068f3694",
   "metadata": {},
   "outputs": [
    {
     "name": "stdout",
     "output_type": "stream",
     "text": [
      "-1.1642564048316615\n",
      "2.8160544075861473\n"
     ]
    }
   ],
   "source": [
    "print(y_pred.min())\n",
    "print(y_pred.max())"
   ]
  },
  {
   "cell_type": "code",
   "execution_count": 36,
   "id": "b508e151",
   "metadata": {},
   "outputs": [
    {
     "data": {
      "text/plain": [
       "0.6061968443228651"
      ]
     },
     "execution_count": 36,
     "metadata": {},
     "output_type": "execute_result"
    }
   ],
   "source": [
    "r2 = reg.score(Xtest,Ytest)\n",
    "r2"
   ]
  },
  {
   "cell_type": "code",
   "execution_count": 37,
   "id": "e0c6fc8c",
   "metadata": {},
   "outputs": [
    {
     "data": {
      "text/plain": [
       "0.6185588304088303"
      ]
     },
     "execution_count": 37,
     "metadata": {},
     "output_type": "execute_result"
    }
   ],
   "source": [
    "r21 = reg.score(Xtrain, Ytrain)\n",
    "r21"
   ]
  },
  {
   "cell_type": "code",
   "execution_count": null,
   "id": "a34f302e",
   "metadata": {},
   "outputs": [],
   "source": []
  }
 ],
 "metadata": {
  "kernelspec": {
   "display_name": "Python 3 (ipykernel)",
   "language": "python",
   "name": "python3"
  },
  "language_info": {
   "codemirror_mode": {
    "name": "ipython",
    "version": 3
   },
   "file_extension": ".py",
   "mimetype": "text/x-python",
   "name": "python",
   "nbconvert_exporter": "python",
   "pygments_lexer": "ipython3",
   "version": "3.9.7"
  }
 },
 "nbformat": 4,
 "nbformat_minor": 5
}
