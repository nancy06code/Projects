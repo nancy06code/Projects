{
 "cells": [
  {
   "cell_type": "markdown",
   "id": "8a200a07",
   "metadata": {},
   "source": [
    "## Introduction"
   ]
  },
  {
   "cell_type": "markdown",
   "id": "386f1bc7",
   "metadata": {},
   "source": [
    "This is intended to be an optional short activity done in advance of your interview. Do not spend more than 3 hours on this activity. The purpose of this activity is not to build the best-performing model; it is to help the interviewers understand your thought process.\n",
    "\n",
    "Some parts of this activity ask for written responses. Please type your response into the cell indicated.\n",
    "- Create as many new markdown cells as you need.\n",
    "- Your answer should be professional and clear.\n",
    "- Your answer should use proper grammar, spelling, and punctuation.\n",
    "\n",
    "Some parts of this activity require you to write code. Please use Python.\n",
    "- Create as many new code cells as you need.\n",
    "- Your code should clearly and fully perform the specified task(s).\n",
    "- Your code should be organized, easy to follow, and commented with clear reasoning and rationale where appropriate.\n",
    "- Your code should be fully reproducible; you should be able to re-run this code multiple times and get the same results each time.\n",
    "\n",
    "Please return a PDF or HTML export of this notebook.\n",
    "- Please run all the cells in the notebook before submitting it so we can see the output.\n",
    "- This can be done by clicking File > Download As > [format]."
   ]
  },
  {
   "cell_type": "code",
   "execution_count": 1,
   "id": "668bba5b",
   "metadata": {},
   "outputs": [],
   "source": [
    "# TO-DO: Install any packages you need here; for example,\n",
    "\n",
    "# pip install pandas"
   ]
  },
  {
   "cell_type": "code",
   "execution_count": 2,
   "id": "d0769ab4",
   "metadata": {},
   "outputs": [],
   "source": [
    "# TO-DO: Import any packages you need here; for example,\n",
    "\n",
    "import pandas as pd\n",
    "import numpy as np"
   ]
  },
  {
   "cell_type": "markdown",
   "id": "4b3319dc",
   "metadata": {},
   "source": [
    "### Import Dataset"
   ]
  },
  {
   "cell_type": "markdown",
   "id": "7eb81455",
   "metadata": {},
   "source": [
    "This activity uses scikit-learn's built-in __[California Housing dataset](https://scikit-learn.org/stable/modules/generated/sklearn.datasets.fetch_california_housing.html#sklearn.datasets.fetch_california_housing)__. Why?\n",
    "\n",
    "- Most people have a domain knowledge of housing prices, making this activity more accessible and leveling the playing field.\n",
    "- There is an excellent built-in data dictionary (run \"print(house.DESCR)\" to read it) explaining each of the attributes.\n",
    "- There are no privacy concerns with this data.\n",
    "- The __[current state of the housing market](https://creastats.crea.ca/en-CA/)__ is an excellent example of why a model requires continous monitoring and retraining."
   ]
  },
  {
   "cell_type": "code",
   "execution_count": 3,
   "id": "e9833085",
   "metadata": {},
   "outputs": [],
   "source": [
    "from sklearn.datasets import fetch_california_housing"
   ]
  },
  {
   "cell_type": "code",
   "execution_count": 4,
   "id": "22f6c294",
   "metadata": {},
   "outputs": [],
   "source": [
    "house = fetch_california_housing(as_frame = True)"
   ]
  },
  {
   "cell_type": "code",
   "execution_count": 5,
   "id": "16dbfc39",
   "metadata": {},
   "outputs": [
    {
     "data": {
      "text/html": [
       "<div>\n",
       "<style scoped>\n",
       "    .dataframe tbody tr th:only-of-type {\n",
       "        vertical-align: middle;\n",
       "    }\n",
       "\n",
       "    .dataframe tbody tr th {\n",
       "        vertical-align: top;\n",
       "    }\n",
       "\n",
       "    .dataframe thead th {\n",
       "        text-align: right;\n",
       "    }\n",
       "</style>\n",
       "<table border=\"1\" class=\"dataframe\">\n",
       "  <thead>\n",
       "    <tr style=\"text-align: right;\">\n",
       "      <th></th>\n",
       "      <th>MedInc</th>\n",
       "      <th>HouseAge</th>\n",
       "      <th>AveRooms</th>\n",
       "      <th>AveBedrms</th>\n",
       "      <th>Population</th>\n",
       "      <th>AveOccup</th>\n",
       "      <th>Latitude</th>\n",
       "      <th>Longitude</th>\n",
       "      <th>MedHouseVal</th>\n",
       "    </tr>\n",
       "  </thead>\n",
       "  <tbody>\n",
       "    <tr>\n",
       "      <th>0</th>\n",
       "      <td>8.3252</td>\n",
       "      <td>41.0</td>\n",
       "      <td>6.984127</td>\n",
       "      <td>1.023810</td>\n",
       "      <td>322.0</td>\n",
       "      <td>2.555556</td>\n",
       "      <td>37.88</td>\n",
       "      <td>-122.23</td>\n",
       "      <td>4.526</td>\n",
       "    </tr>\n",
       "    <tr>\n",
       "      <th>1</th>\n",
       "      <td>8.3014</td>\n",
       "      <td>21.0</td>\n",
       "      <td>6.238137</td>\n",
       "      <td>0.971880</td>\n",
       "      <td>2401.0</td>\n",
       "      <td>2.109842</td>\n",
       "      <td>37.86</td>\n",
       "      <td>-122.22</td>\n",
       "      <td>3.585</td>\n",
       "    </tr>\n",
       "    <tr>\n",
       "      <th>2</th>\n",
       "      <td>7.2574</td>\n",
       "      <td>52.0</td>\n",
       "      <td>8.288136</td>\n",
       "      <td>1.073446</td>\n",
       "      <td>496.0</td>\n",
       "      <td>2.802260</td>\n",
       "      <td>37.85</td>\n",
       "      <td>-122.24</td>\n",
       "      <td>3.521</td>\n",
       "    </tr>\n",
       "    <tr>\n",
       "      <th>3</th>\n",
       "      <td>5.6431</td>\n",
       "      <td>52.0</td>\n",
       "      <td>5.817352</td>\n",
       "      <td>1.073059</td>\n",
       "      <td>558.0</td>\n",
       "      <td>2.547945</td>\n",
       "      <td>37.85</td>\n",
       "      <td>-122.25</td>\n",
       "      <td>3.413</td>\n",
       "    </tr>\n",
       "    <tr>\n",
       "      <th>4</th>\n",
       "      <td>3.8462</td>\n",
       "      <td>52.0</td>\n",
       "      <td>6.281853</td>\n",
       "      <td>1.081081</td>\n",
       "      <td>565.0</td>\n",
       "      <td>2.181467</td>\n",
       "      <td>37.85</td>\n",
       "      <td>-122.25</td>\n",
       "      <td>3.422</td>\n",
       "    </tr>\n",
       "  </tbody>\n",
       "</table>\n",
       "</div>"
      ],
      "text/plain": [
       "   MedInc  HouseAge  AveRooms  AveBedrms  Population  AveOccup  Latitude  \\\n",
       "0  8.3252      41.0  6.984127   1.023810       322.0  2.555556     37.88   \n",
       "1  8.3014      21.0  6.238137   0.971880      2401.0  2.109842     37.86   \n",
       "2  7.2574      52.0  8.288136   1.073446       496.0  2.802260     37.85   \n",
       "3  5.6431      52.0  5.817352   1.073059       558.0  2.547945     37.85   \n",
       "4  3.8462      52.0  6.281853   1.081081       565.0  2.181467     37.85   \n",
       "\n",
       "   Longitude  MedHouseVal  \n",
       "0    -122.23        4.526  \n",
       "1    -122.22        3.585  \n",
       "2    -122.24        3.521  \n",
       "3    -122.25        3.413  \n",
       "4    -122.25        3.422  "
      ]
     },
     "execution_count": 5,
     "metadata": {},
     "output_type": "execute_result"
    }
   ],
   "source": [
    "house.frame.head()"
   ]
  },
  {
   "cell_type": "code",
   "execution_count": 6,
   "id": "34c84772",
   "metadata": {},
   "outputs": [
    {
     "name": "stdout",
     "output_type": "stream",
     "text": [
      ".. _california_housing_dataset:\n",
      "\n",
      "California Housing dataset\n",
      "--------------------------\n",
      "\n",
      "**Data Set Characteristics:**\n",
      "\n",
      "    :Number of Instances: 20640\n",
      "\n",
      "    :Number of Attributes: 8 numeric, predictive attributes and the target\n",
      "\n",
      "    :Attribute Information:\n",
      "        - MedInc        median income in block group\n",
      "        - HouseAge      median house age in block group\n",
      "        - AveRooms      average number of rooms per household\n",
      "        - AveBedrms     average number of bedrooms per household\n",
      "        - Population    block group population\n",
      "        - AveOccup      average number of household members\n",
      "        - Latitude      block group latitude\n",
      "        - Longitude     block group longitude\n",
      "\n",
      "    :Missing Attribute Values: None\n",
      "\n",
      "This dataset was obtained from the StatLib repository.\n",
      "https://www.dcc.fc.up.pt/~ltorgo/Regression/cal_housing.html\n",
      "\n",
      "The target variable is the median house value for California districts,\n",
      "expressed in hundreds of thousands of dollars ($100,000).\n",
      "\n",
      "This dataset was derived from the 1990 U.S. census, using one row per census\n",
      "block group. A block group is the smallest geographical unit for which the U.S.\n",
      "Census Bureau publishes sample data (a block group typically has a population\n",
      "of 600 to 3,000 people).\n",
      "\n",
      "An household is a group of people residing within a home. Since the average\n",
      "number of rooms and bedrooms in this dataset are provided per household, these\n",
      "columns may take surpinsingly large values for block groups with few households\n",
      "and many empty houses, such as vacation resorts.\n",
      "\n",
      "It can be downloaded/loaded using the\n",
      ":func:`sklearn.datasets.fetch_california_housing` function.\n",
      "\n",
      ".. topic:: References\n",
      "\n",
      "    - Pace, R. Kelley and Ronald Barry, Sparse Spatial Autoregressions,\n",
      "      Statistics and Probability Letters, 33 (1997) 291-297\n",
      "\n"
     ]
    }
   ],
   "source": [
    "print(house.DESCR)"
   ]
  },
  {
   "cell_type": "markdown",
   "id": "2057973c",
   "metadata": {},
   "source": [
    "### Part 1: Create a model to predict the median house value (MedHouseVal)."
   ]
  },
  {
   "cell_type": "markdown",
   "id": "5e8340c0",
   "metadata": {},
   "source": [
    "Split the data into a training set and a testing set. Set aside the testing set until the last question - this will be \"future, unseen data\" to evaluate the performance of the model."
   ]
  },
  {
   "cell_type": "code",
   "execution_count": 7,
   "id": "4a40e8ac",
   "metadata": {},
   "outputs": [],
   "source": [
    "# TO-DO: write any code you need here. Add as many cells as you need."
   ]
  },
  {
   "cell_type": "code",
   "execution_count": null,
   "id": "dfc504a7",
   "metadata": {},
   "outputs": [],
   "source": []
  },
  {
   "cell_type": "markdown",
   "id": "ec66b3f3",
   "metadata": {},
   "source": [
    "Use the training set to build a basic model to predict the MedHouseVal."
   ]
  },
  {
   "cell_type": "code",
   "execution_count": 8,
   "id": "af91d78c",
   "metadata": {},
   "outputs": [],
   "source": [
    "# TO-DO: write any code you need here. Add as many cells as you need."
   ]
  },
  {
   "cell_type": "markdown",
   "id": "4991dcf4",
   "metadata": {},
   "source": [
    "Did you consider any other algorithms for this task? Why did you choose one over another? "
   ]
  },
  {
   "cell_type": "code",
   "execution_count": null,
   "id": "b633167d",
   "metadata": {},
   "outputs": [],
   "source": [
    "# TO-DO: write your answer here. Convert this cell to Markdown if you prefer. Add as many cells as you need."
   ]
  },
  {
   "cell_type": "markdown",
   "id": "ec6d9d22",
   "metadata": {},
   "source": [
    "Estimate how well your model will work in production. Use the testing set and the model to get predictions and evaluate the performance."
   ]
  },
  {
   "cell_type": "code",
   "execution_count": 9,
   "id": "ceef365d",
   "metadata": {},
   "outputs": [],
   "source": [
    "# TO-DO: write any code you need here. Add as many cells as you need."
   ]
  },
  {
   "cell_type": "markdown",
   "id": "918e25ca",
   "metadata": {},
   "source": [
    "### Part 2: Monitoring the model in production"
   ]
  },
  {
   "cell_type": "markdown",
   "id": "4e02be24",
   "metadata": {},
   "source": [
    "What could cause this model's performance to degrade over time?"
   ]
  },
  {
   "cell_type": "code",
   "execution_count": 10,
   "id": "32fbeaf6",
   "metadata": {},
   "outputs": [],
   "source": [
    "# TO-DO: write your answer here. Convert this cell to Markdown if you prefer. Add as many cells as you need."
   ]
  },
  {
   "cell_type": "markdown",
   "id": "dc33ad45",
   "metadata": {},
   "source": [
    "How would you monitor this model's performance over time? "
   ]
  },
  {
   "cell_type": "code",
   "execution_count": 11,
   "id": "93964b01",
   "metadata": {},
   "outputs": [],
   "source": [
    "# TO-DO: write your answer here. Convert this cell to Markdown if you prefer. Add as many cells as you need."
   ]
  },
  {
   "cell_type": "markdown",
   "id": "19fb52c2",
   "metadata": {},
   "source": [
    "Will you ever need to retrain the model? If so, when and how?"
   ]
  },
  {
   "cell_type": "code",
   "execution_count": 12,
   "id": "5bc779e1",
   "metadata": {},
   "outputs": [],
   "source": [
    "# TO-DO: write your answer here. Convert this cell to Markdown if you prefer. Add as many cells as you need."
   ]
  },
  {
   "cell_type": "code",
   "execution_count": null,
   "id": "c322c140",
   "metadata": {},
   "outputs": [],
   "source": []
  }
 ],
 "metadata": {
  "kernelspec": {
   "display_name": "Python 3 (ipykernel)",
   "language": "python",
   "name": "python3"
  },
  "language_info": {
   "codemirror_mode": {
    "name": "ipython",
    "version": 3
   },
   "file_extension": ".py",
   "mimetype": "text/x-python",
   "name": "python",
   "nbconvert_exporter": "python",
   "pygments_lexer": "ipython3",
   "version": "3.9.7"
  }
 },
 "nbformat": 4,
 "nbformat_minor": 5
}
