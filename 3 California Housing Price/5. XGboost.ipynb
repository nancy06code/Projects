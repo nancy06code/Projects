{
 "cells": [
  {
   "cell_type": "code",
   "execution_count": 26,
   "id": "a2363f3d",
   "metadata": {},
   "outputs": [],
   "source": [
    "import pandas as pd\n",
    "from sklearn.model_selection import train_test_split\n",
    "from xgboost import XGBRegressor as XGBR \n",
    "from sklearn.model_selection import cross_val_score\n",
    "\n",
    "house=pd.read_csv(\"/Users/manancy/Downloads/Nancy 2/工作/Carlo /尝试的业务/Case 2/3 California Housing Price/housing-Nancy.csv\")"
   ]
  },
  {
   "cell_type": "code",
   "execution_count": 19,
   "id": "f393edc1",
   "metadata": {},
   "outputs": [],
   "source": [
    "x=house.iloc[:,:-1]\n",
    "y=house.loc[:,\"MedHouseVal\"]\n",
    "Xtrain, Xtest, Ytrain, Ytest = train_test_split(x,y,test_size=0.3,random_state=30)\n",
    "for i in [Xtrain, Xtest]:\n",
    "    i.index = range(i.shape[0])"
   ]
  },
  {
   "cell_type": "code",
   "execution_count": 20,
   "id": "2f03bfbe",
   "metadata": {},
   "outputs": [],
   "source": [
    "gb = XGBR(n_estimators=100,random_state=30).fit(Xtrain,Ytrain) \n",
    "gbs = gb.score(Xtest,Ytest)\n",
    "gbst = gb.score(Xtrain,Ytrain)"
   ]
  },
  {
   "cell_type": "code",
   "execution_count": 21,
   "id": "b6a18dd2",
   "metadata": {},
   "outputs": [
    {
     "data": {
      "text/plain": [
       "0.8478135209537458"
      ]
     },
     "execution_count": 21,
     "metadata": {},
     "output_type": "execute_result"
    }
   ],
   "source": [
    "gbs"
   ]
  },
  {
   "cell_type": "code",
   "execution_count": 22,
   "id": "b7c039aa",
   "metadata": {},
   "outputs": [
    {
     "data": {
      "text/plain": [
       "0.9519425674584259"
      ]
     },
     "execution_count": 22,
     "metadata": {},
     "output_type": "execute_result"
    }
   ],
   "source": [
    "gbst"
   ]
  },
  {
   "cell_type": "code",
   "execution_count": 23,
   "id": "7f7491ea",
   "metadata": {},
   "outputs": [],
   "source": [
    "y_pred=gb.predict(Xtest)"
   ]
  },
  {
   "cell_type": "code",
   "execution_count": 24,
   "id": "d39c5104",
   "metadata": {},
   "outputs": [
    {
     "data": {
      "text/plain": [
       "array([0.05689992, 0.46715042, 0.04553058, 0.07183135, 0.01533618,\n",
       "       0.02003711, 0.10021477, 0.11528082, 0.10771891], dtype=float32)"
      ]
     },
     "execution_count": 24,
     "metadata": {},
     "output_type": "execute_result"
    }
   ],
   "source": [
    "gb.feature_importances_"
   ]
  },
  {
   "cell_type": "code",
   "execution_count": null,
   "id": "862080d3",
   "metadata": {},
   "outputs": [],
   "source": []
  }
 ],
 "metadata": {
  "kernelspec": {
   "display_name": "Python 3 (ipykernel)",
   "language": "python",
   "name": "python3"
  },
  "language_info": {
   "codemirror_mode": {
    "name": "ipython",
    "version": 3
   },
   "file_extension": ".py",
   "mimetype": "text/x-python",
   "name": "python",
   "nbconvert_exporter": "python",
   "pygments_lexer": "ipython3",
   "version": "3.9.7"
  }
 },
 "nbformat": 4,
 "nbformat_minor": 5
}
