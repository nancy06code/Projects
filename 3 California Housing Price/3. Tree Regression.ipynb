{
 "cells": [
  {
   "cell_type": "code",
   "execution_count": 10,
   "id": "1f74b595",
   "metadata": {},
   "outputs": [],
   "source": [
    "import pandas as pd\n",
    "from sklearn.model_selection import train_test_split\n",
    "from sklearn.tree import DecisionTreeRegressor\n",
    "from sklearn.model_selection import cross_val_score\n",
    "from sklearn.metrics import confusion_matrix\n",
    "import seaborn as sns\n",
    "from sklearn.metrics import classification_report\n",
    "\n",
    "house=pd.read_csv(\"/Users/manancy/Downloads/Nancy 2/工作/Carlo /尝试的业务/Case 2/3 California Housing Price/housing-Nancy.csv\")"
   ]
  },
  {
   "cell_type": "code",
   "execution_count": 11,
   "id": "0677eac5",
   "metadata": {},
   "outputs": [],
   "source": [
    "x=house.iloc[:,:-1]\n",
    "y=house.loc[:,\"MedHouseVal\"]\n",
    "Xtrain, Xtest, Ytrain, Ytest = train_test_split(x,y,test_size=0.3,random_state=30)\n",
    "for i in [Xtrain, Xtest]:\n",
    "    i.index = range(i.shape[0])"
   ]
  },
  {
   "cell_type": "code",
   "execution_count": 12,
   "id": "71aaeb87",
   "metadata": {},
   "outputs": [
    {
     "data": {
      "text/plain": [
       "0.6586743895674523"
      ]
     },
     "execution_count": 12,
     "metadata": {},
     "output_type": "execute_result"
    }
   ],
   "source": [
    "regressor = DecisionTreeRegressor(random_state=30).fit(Xtrain,Ytrain)\n",
    "score_t = regressor.score(Xtest, Ytest)\n",
    "score_tr = regressor.score(Xtrain,Ytrain)\n",
    "y_pred=regressor.predict(Xtest)\n",
    "score_t"
   ]
  },
  {
   "cell_type": "code",
   "execution_count": 13,
   "id": "0edc3297",
   "metadata": {},
   "outputs": [
    {
     "data": {
      "text/plain": [
       "1.0"
      ]
     },
     "execution_count": 13,
     "metadata": {},
     "output_type": "execute_result"
    }
   ],
   "source": [
    "score_tr"
   ]
  },
  {
   "cell_type": "code",
   "execution_count": 14,
   "id": "7d671d19",
   "metadata": {},
   "outputs": [
    {
     "data": {
      "text/plain": [
       "0.6061968443228652"
      ]
     },
     "execution_count": 14,
     "metadata": {},
     "output_type": "execute_result"
    }
   ],
   "source": [
    "from sklearn.linear_model import Ridge, LinearRegression, Lasso\n",
    "Ridge_ = Ridge(alpha=0).fit(Xtrain,Ytrain)\n",
    "Ridge_.score(Xtest,Ytest)"
   ]
  },
  {
   "cell_type": "code",
   "execution_count": null,
   "id": "85f3cdbd",
   "metadata": {},
   "outputs": [],
   "source": []
  }
 ],
 "metadata": {
  "kernelspec": {
   "display_name": "Python 3 (ipykernel)",
   "language": "python",
   "name": "python3"
  },
  "language_info": {
   "codemirror_mode": {
    "name": "ipython",
    "version": 3
   },
   "file_extension": ".py",
   "mimetype": "text/x-python",
   "name": "python",
   "nbconvert_exporter": "python",
   "pygments_lexer": "ipython3",
   "version": "3.9.7"
  }
 },
 "nbformat": 4,
 "nbformat_minor": 5
}
