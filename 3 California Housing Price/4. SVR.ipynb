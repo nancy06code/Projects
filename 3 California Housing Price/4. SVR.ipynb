{
 "cells": [
  {
   "cell_type": "code",
   "execution_count": 22,
   "id": "0122e269",
   "metadata": {},
   "outputs": [],
   "source": [
    "import pandas as pd\n",
    "from sklearn.model_selection import train_test_split\n",
    "from sklearn.svm import SVR \n",
    "from sklearn.model_selection import cross_val_score\n",
    "\n",
    "house=pd.read_csv(\"/Users/manancy/Downloads/Nancy 2/工作/Carlo /尝试的业务/Case 2/3 California Housing Price/housing-Nancy.csv\")"
   ]
  },
  {
   "cell_type": "code",
   "execution_count": 16,
   "id": "61658650",
   "metadata": {},
   "outputs": [],
   "source": [
    "x=house.iloc[:,:-1]\n",
    "y=house.loc[:,\"MedHouseVal\"]\n",
    "Xtrain, Xtest, Ytrain, Ytest = train_test_split(x,y,test_size=0.3,random_state=30)\n",
    "for i in [Xtrain, Xtest]:\n",
    "    i.index = range(i.shape[0])"
   ]
  },
  {
   "cell_type": "code",
   "execution_count": 17,
   "id": "2cdbaaa7",
   "metadata": {},
   "outputs": [],
   "source": [
    "# Normalization\n",
    "from sklearn.preprocessing import MinMaxScaler\n",
    "scaler = MinMaxScaler()\n",
    "Xtrain1 = scaler.fit_transform(Xtrain)\n",
    "Xtest2 = scaler.fit_transform(Xtest)"
   ]
  },
  {
   "cell_type": "code",
   "execution_count": 18,
   "id": "0dcadbe8",
   "metadata": {},
   "outputs": [],
   "source": [
    "svr2 = SVR().fit(Xtrain1, Ytrain)  \n",
    "\n",
    "sstr2=svr2.score(Xtrain1,Ytrain)\n",
    "sst2 = svr2.score(Xtest2,Ytest)\n",
    "y_pred=svr2.predict(Xtest)"
   ]
  },
  {
   "cell_type": "code",
   "execution_count": 19,
   "id": "eed5e600",
   "metadata": {},
   "outputs": [
    {
     "data": {
      "text/plain": [
       "0.7326974485000057"
      ]
     },
     "execution_count": 19,
     "metadata": {},
     "output_type": "execute_result"
    }
   ],
   "source": [
    "sstr2"
   ]
  },
  {
   "cell_type": "code",
   "execution_count": 20,
   "id": "2c901566",
   "metadata": {},
   "outputs": [
    {
     "data": {
      "text/plain": [
       "0.7074477683754303"
      ]
     },
     "execution_count": 20,
     "metadata": {},
     "output_type": "execute_result"
    }
   ],
   "source": [
    "sst2"
   ]
  },
  {
   "cell_type": "code",
   "execution_count": null,
   "id": "dc62dbeb",
   "metadata": {},
   "outputs": [],
   "source": []
  }
 ],
 "metadata": {
  "kernelspec": {
   "display_name": "Python 3 (ipykernel)",
   "language": "python",
   "name": "python3"
  },
  "language_info": {
   "codemirror_mode": {
    "name": "ipython",
    "version": 3
   },
   "file_extension": ".py",
   "mimetype": "text/x-python",
   "name": "python",
   "nbconvert_exporter": "python",
   "pygments_lexer": "ipython3",
   "version": "3.9.7"
  }
 },
 "nbformat": 4,
 "nbformat_minor": 5
}
