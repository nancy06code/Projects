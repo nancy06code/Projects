{
 "cells": [
  {
   "cell_type": "markdown",
   "id": "ce4e2027",
   "metadata": {},
   "source": [
    "# KNN"
   ]
  },
  {
   "cell_type": "code",
   "execution_count": 1,
   "id": "3201dac7",
   "metadata": {},
   "outputs": [],
   "source": [
    "import pandas as pd\n",
    "import numpy as np\n",
    "from sklearn.model_selection import train_test_split\n",
    "from sklearn.metrics import confusion_matrix\n",
    "import seaborn as sns\n",
    "from sklearn.metrics import classification_report\n",
    "from sklearn.neighbors import KNeighborsClassifier as KNN\n",
    "from sklearn.model_selection import cross_val_score\n",
    "from sklearn.feature_selection import VarianceThreshold     \n",
    "from matplotlib import  pyplot as plt\n",
    "\n",
    "data1 = pd.read_csv(\"/Users/manancy/Downloads/Nancy 2/工作/Carlo /尝试的业务/RisklabDataCompetition/1 Credit Card Debt Crisis/2nd/OverSample/Cleaned data-Nancy(before sub-sample).csv\")\n",
    "dataN = pd.read_csv(\"/Users/manancy/Downloads/Nancy 2/工作/Carlo /尝试的业务/RisklabDataCompetition/1 Credit Card Debt Crisis/2nd/OverSample/Cleaned Sub-oversample-Nancy.csv\")"
   ]
  },
  {
   "cell_type": "code",
   "execution_count": 4,
   "id": "0c52564d",
   "metadata": {},
   "outputs": [],
   "source": [
    "X=data1.drop(columns=\"July_Payment_Status\")\n",
    "y=data1[\"July_Payment_Status\"]\n",
    "Xtrain, Xtest, Ytrain, Ytest = train_test_split(X, y, test_size=0.3, random_state=30)\n",
    "\n",
    "Xn=dataN.drop(columns=\"July_Payment_Status\")\n",
    "yn=dataN[\"July_Payment_Status\"]\n",
    "XtrainN, XtestN, YtrainN, YtestN = train_test_split(Xn, yn, test_size=0.3, random_state=35)"
   ]
  },
  {
   "cell_type": "code",
   "execution_count": 5,
   "id": "f2131daf",
   "metadata": {},
   "outputs": [],
   "source": [
    "X_fsvar = VarianceThreshold(np.median(Xtrain.var().values)).fit_transform(X)\n",
    "\n",
    "X_fsvarN = VarianceThreshold(np.median(XtrainN.var().values)).fit_transform(Xn)"
   ]
  },
  {
   "cell_type": "code",
   "execution_count": 6,
   "id": "b6660d25",
   "metadata": {
    "scrolled": true
   },
   "outputs": [
    {
     "name": "stdout",
     "output_type": "stream",
     "text": [
      "0.6530585541380438\n",
      "0.6511612692181877\n"
     ]
    }
   ],
   "source": [
    "# Original \n",
    "print(cross_val_score(KNN(), X, y, cv=5).mean())\n",
    "print(cross_val_score(KNN(), X_fsvar, y, cv=5).mean())     "
   ]
  },
  {
   "cell_type": "code",
   "execution_count": 7,
   "id": "745827fb",
   "metadata": {},
   "outputs": [
    {
     "name": "stdout",
     "output_type": "stream",
     "text": [
      "0.49770077857956785\n",
      "0.49468288802825955\n"
     ]
    }
   ],
   "source": [
    "# Sub-sample\n",
    "print(cross_val_score(KNN(), Xn, yn, cv=5).mean())\n",
    "print(cross_val_score(KNN(), X_fsvarN, yn, cv=5).mean())     "
   ]
  },
  {
   "cell_type": "code",
   "execution_count": 20,
   "id": "22b51aeb",
   "metadata": {},
   "outputs": [
    {
     "data": {
      "text/plain": [
       "KNeighborsClassifier(n_neighbors=3)"
      ]
     },
     "execution_count": 20,
     "metadata": {},
     "output_type": "execute_result"
    }
   ],
   "source": [
    "knn = KNN(n_neighbors=3)\n",
    "knn.fit(Xtrain, Ytrain)"
   ]
  },
  {
   "cell_type": "code",
   "execution_count": 21,
   "id": "a319af2d",
   "metadata": {
    "scrolled": true
   },
   "outputs": [
    {
     "data": {
      "text/plain": [
       "0.5621516840319845"
      ]
     },
     "execution_count": 21,
     "metadata": {},
     "output_type": "execute_result"
    }
   ],
   "source": [
    "y_pred = knn.predict(Xtest)\n",
    "knn.score(Xtest,Ytest)"
   ]
  },
  {
   "cell_type": "code",
   "execution_count": 9,
   "id": "aca770f4",
   "metadata": {},
   "outputs": [
    {
     "data": {
      "text/plain": [
       "0.8088069780528981"
      ]
     },
     "execution_count": 9,
     "metadata": {},
     "output_type": "execute_result"
    }
   ],
   "source": [
    "knn = KNN(n_neighbors=3)\n",
    "knn.fit(XtrainN, YtrainN)\n",
    "\n",
    "yn_pred = knn.predict(XtestN)\n",
    "knn.score(XtestN,YtestN)"
   ]
  },
  {
   "cell_type": "code",
   "execution_count": 22,
   "id": "01526978",
   "metadata": {},
   "outputs": [
    {
     "data": {
      "image/png": "[encoded data removed]",
      "text/plain": [
       "<Figure size 432x288 with 2 Axes>"
      ]
     },
     "metadata": {},
     "output_type": "display_data"
    }
   ],
   "source": [
    "# Original\n",
    "cm = confusion_matrix(Ytest, y_pred)\n",
    "sns.set(font_scale=1.4)\n",
    "sns.heatmap(cm, annot=True, fmt=\"d\",cmap = \"Blues\")\n",
    "plt.show()"
   ]
  },
  {
   "cell_type": "code",
   "execution_count": 23,
   "id": "4bf7ec27",
   "metadata": {},
   "outputs": [
    {
     "name": "stdout",
     "output_type": "stream",
     "text": [
      "              precision    recall  f1-score   support\n",
      "\n",
      "           0   0.563112  0.557385  0.560234      2065\n",
      "           1   0.561210  0.566925  0.564053      2062\n",
      "\n",
      "    accuracy                       0.562152      4127\n",
      "   macro avg   0.562161  0.562155  0.562143      4127\n",
      "weighted avg   0.562161  0.562152  0.562142      4127\n",
      "\n"
     ]
    }
   ],
   "source": [
    "print(classification_report(Ytest, y_pred, digits=6))"
   ]
  },
  {
   "cell_type": "code",
   "execution_count": 10,
   "id": "4cdc6c61",
   "metadata": {},
   "outputs": [
    {
     "data": {
      "image/png": "[encoded data removed]",
      "text/plain": [
       "<Figure size 432x288 with 2 Axes>"
      ]
     },
     "metadata": {},
     "output_type": "display_data"
    }
   ],
   "source": [
    "# Sub-sample\n",
    "# Original\n",
    "cmN = confusion_matrix(YtestN, yn_pred)\n",
    "sns.set(font_scale=1.4)\n",
    "sns.heatmap(cmN, annot=True, fmt=\"d\",cmap = \"Blues\")\n",
    "plt.show()"
   ]
  },
  {
   "cell_type": "code",
   "execution_count": 11,
   "id": "1b1d7c05",
   "metadata": {},
   "outputs": [
    {
     "name": "stdout",
     "output_type": "stream",
     "text": [
      "              precision    recall  f1-score   support\n",
      "\n",
      "         0.0   0.782222  0.854786  0.816896      7093\n",
      "         1.0   0.840681  0.763021  0.799971      7123\n",
      "\n",
      "    accuracy                       0.808807     14216\n",
      "   macro avg   0.811451  0.808904  0.808433     14216\n",
      "weighted avg   0.811513  0.808807  0.808415     14216\n",
      "\n"
     ]
    }
   ],
   "source": [
    "print(classification_report(YtestN, yn_pred, digits=6))"
   ]
  },
  {
   "cell_type": "code",
   "execution_count": null,
   "id": "f4afa6c5",
   "metadata": {},
   "outputs": [],
   "source": []
  }
 ],
 "metadata": {
  "kernelspec": {
   "display_name": "Python 3 (ipykernel)",
   "language": "python",
   "name": "python3"
  },
  "language_info": {
   "codemirror_mode": {
    "name": "ipython",
    "version": 3
   },
   "file_extension": ".py",
   "mimetype": "text/x-python",
   "name": "python",
   "nbconvert_exporter": "python",
   "pygments_lexer": "ipython3",
   "version": "3.9.7"
  }
 },
 "nbformat": 4,
 "nbformat_minor": 5
}
