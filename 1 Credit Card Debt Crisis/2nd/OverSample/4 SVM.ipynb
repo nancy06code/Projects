{
 "cells": [
  {
   "cell_type": "markdown",
   "id": "f89a9b0f",
   "metadata": {},
   "source": [
    "# SVM"
   ]
  },
  {
   "cell_type": "code",
   "execution_count": 1,
   "id": "ae6f0d22",
   "metadata": {},
   "outputs": [],
   "source": [
    "import pandas as pd\n",
    "from sklearn.model_selection import train_test_split\n",
    "from sklearn.svm import SVC\n",
    "from sklearn.metrics import confusion_matrix\n",
    "import seaborn as sns\n",
    "from sklearn.metrics import classification_report\n",
    "from matplotlib import  pyplot as plt\n",
    "\n",
    "data1 = pd.read_csv(\"/Users/manancy/Downloads/Nancy 2/工作/Carlo /尝试的业务/RisklabDataCompetition/1 Credit Card Debt Crisis/2nd/OverSample/Cleaned data-Nancy(before sub-sample).csv\")\n",
    "dataN = pd.read_csv(\"/Users/manancy/Downloads/Nancy 2/工作/Carlo /尝试的业务/RisklabDataCompetition/1 Credit Card Debt Crisis/2nd/OverSample/Cleaned Sub-oversample-Nancy.csv\")"
   ]
  },
  {
   "cell_type": "code",
   "execution_count": 2,
   "id": "6807092b",
   "metadata": {},
   "outputs": [],
   "source": [
    "X=data1.drop(columns=\"July_Payment_Status\")\n",
    "y=data1[\"July_Payment_Status\"]\n",
    "Xtrain, Xtest, Ytrain, Ytest = train_test_split(X, y, test_size=0.3, random_state=30)"
   ]
  },
  {
   "cell_type": "code",
   "execution_count": 3,
   "id": "98038184",
   "metadata": {},
   "outputs": [],
   "source": [
    "Xn=data1.drop(columns=\"July_Payment_Status\")\n",
    "yn=data1[\"July_Payment_Status\"]\n",
    "Xntrain, Xntest, Yntrain, Yntest = train_test_split(Xn, yn, test_size=0.3, random_state=30)"
   ]
  },
  {
   "cell_type": "markdown",
   "id": "f04e9530",
   "metadata": {},
   "source": [
    "## Normalization"
   ]
  },
  {
   "cell_type": "code",
   "execution_count": 6,
   "id": "b8d60f27",
   "metadata": {},
   "outputs": [],
   "source": [
    "from sklearn.preprocessing import MinMaxScaler\n",
    "mms = MinMaxScaler().fit(Xtrain)\n",
    "Xtrain_ = mms.transform(Xtrain)\n",
    "Xtest_ = mms.transform(Xtest)\n",
    "\n",
    "mmsn = MinMaxScaler().fit(Xntrain)\n",
    "Xntrain_ = mmsn.transform(Xntrain)\n",
    "Xntest_ = mms.transform(Xntest)"
   ]
  },
  {
   "cell_type": "code",
   "execution_count": 18,
   "id": "c1fbfe8b",
   "metadata": {},
   "outputs": [
    {
     "data": {
      "text/plain": [
       "0.7733071638861629"
      ]
     },
     "execution_count": 18,
     "metadata": {},
     "output_type": "execute_result"
    }
   ],
   "source": [
    "#Orighinal \n",
    "clf = SVC(kernel = \"rbf\").fit(Xtrain, Ytrain)\n",
    "y_pred= clf.predict(Xtest)\n",
    "score = clf.score(Xtest, Ytest)\n",
    "#print(\"Sub-sample:\"score)\n",
    "score"
   ]
  },
  {
   "cell_type": "code",
   "execution_count": 20,
   "id": "56f3340f",
   "metadata": {},
   "outputs": [
    {
     "data": {
      "text/plain": [
       "0.7733071638861629"
      ]
     },
     "execution_count": 20,
     "metadata": {},
     "output_type": "execute_result"
    }
   ],
   "source": [
    "# Sub-sample\n",
    "clfn = SVC(kernel = \"rbf\").fit(Xntrain, Yntrain)\n",
    "yn_pred= clf.predict(Xtest)\n",
    "scoren= clfn.score(Xntest, Yntest)\n",
    "#print(\"Sub-sample:\" scoren)\n",
    "scoren"
   ]
  },
  {
   "cell_type": "code",
   "execution_count": 6,
   "id": "d0e1380e",
   "metadata": {},
   "outputs": [],
   "source": [
    "#clf = SVC(kernel = \"sigmoid\").fit(Xtrain, Ytrain)\n",
    "#clf.score(Xtest, Ytest)"
   ]
  },
  {
   "cell_type": "code",
   "execution_count": 7,
   "id": "7c66c13e",
   "metadata": {},
   "outputs": [
    {
     "data": {
      "image/png": "[encoded data removed]",
      "text/plain": [
       "<Figure size 432x288 with 2 Axes>"
      ]
     },
     "metadata": {},
     "output_type": "display_data"
    }
   ],
   "source": [
    "cm = confusion_matrix(Ytest, y_pred)\n",
    "sns.set(font_scale=1.4)\n",
    "sns.heatmap(cm, annot=True, fmt=\"d\",cmap = \"Blues\")\n",
    "plt.show()"
   ]
  },
  {
   "cell_type": "code",
   "execution_count": 8,
   "id": "9c1f96b5",
   "metadata": {},
   "outputs": [
    {
     "name": "stdout",
     "output_type": "stream",
     "text": [
      "              precision    recall  f1-score   support\n",
      "\n",
      "           0   0.613244  0.533656  0.570689      2065\n",
      "           1   0.586695  0.662949  0.622495      2062\n",
      "\n",
      "    accuracy                       0.598255      4127\n",
      "   macro avg   0.599970  0.598302  0.596592      4127\n",
      "weighted avg   0.599979  0.598255  0.596573      4127\n",
      "\n"
     ]
    }
   ],
   "source": [
    "import warnings\n",
    "warnings.filterwarnings('ignore')\n",
    "print(classification_report(Ytest, y_pred, digits=6))"
   ]
  },
  {
   "cell_type": "code",
   "execution_count": null,
   "id": "104a793f",
   "metadata": {},
   "outputs": [],
   "source": []
  }
 ],
 "metadata": {
  "kernelspec": {
   "display_name": "Python 3 (ipykernel)",
   "language": "python",
   "name": "python3"
  },
  "language_info": {
   "codemirror_mode": {
    "name": "ipython",
    "version": 3
   },
   "file_extension": ".py",
   "mimetype": "text/x-python",
   "name": "python",
   "nbconvert_exporter": "python",
   "pygments_lexer": "ipython3",
   "version": "3.9.7"
  }
 },
 "nbformat": 4,
 "nbformat_minor": 5
}
