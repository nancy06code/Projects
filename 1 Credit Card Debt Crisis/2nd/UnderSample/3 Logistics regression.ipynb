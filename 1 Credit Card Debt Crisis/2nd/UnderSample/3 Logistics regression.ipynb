{
 "cells": [
  {
   "cell_type": "code",
   "execution_count": 25,
   "id": "78dbdd18",
   "metadata": {},
   "outputs": [],
   "source": [
    "import pandas as pd\n",
    "import numpy as np\n",
    "from matplotlib import  pyplot as plt\n",
    "from sklearn.model_selection import train_test_split\n",
    "from sklearn.linear_model import LogisticRegression\n",
    "from sklearn.model_selection import RandomizedSearchCV\n",
    "from sklearn.model_selection import cross_val_score\n",
    "from sklearn.preprocessing import StandardScaler    \n",
    "from sklearn.metrics import confusion_matrix\n",
    "import seaborn as sns\n",
    "from sklearn.metrics import classification_report\n",
    "\n",
    "data1 = pd.read_csv(\"/Users/manancy/Downloads/Nancy 2/工作/Carlo /尝试的业务/RisklabDataCompetition/1 Credit Card Debt Crisis/2nd/Cleaned data-Nancy(before sub-sample).csv\")\n",
    "dataN = pd.read_csv(\"/Users/manancy/Downloads/Nancy 2/工作/Carlo /尝试的业务/RisklabDataCompetition/1 Credit Card Debt Crisis/2nd/Cleaned Sub-sample-Nancy.csv\")"
   ]
  },
  {
   "cell_type": "code",
   "execution_count": 26,
   "id": "db7d5287",
   "metadata": {},
   "outputs": [],
   "source": [
    "# Original\n",
    "X=data1.drop(columns=\"July_Payment_Status\")\n",
    "y=data1[\"July_Payment_Status\"]\n",
    "Xtrain, Xtest, Ytrain, Ytest = train_test_split(X, y, test_size=0.3, random_state=30)\n",
    "\n",
    "# Sub-sample\n",
    "Xn=dataN.drop(columns=\"July_Payment_Status\")\n",
    "yn=dataN[\"July_Payment_Status\"]\n",
    "XtrainN, XtestN, YtrainN, YtestN = train_test_split(Xn, yn, test_size=0.3, random_state=30)"
   ]
  },
  {
   "cell_type": "code",
   "execution_count": 27,
   "id": "a9939478",
   "metadata": {},
   "outputs": [],
   "source": [
    "#data1.drop(columns=\"July_Payment_Status\")"
   ]
  },
  {
   "cell_type": "code",
   "execution_count": 28,
   "id": "01331a51",
   "metadata": {},
   "outputs": [
    {
     "data": {
      "text/plain": [
       "0.7912986588158325"
      ]
     },
     "execution_count": 28,
     "metadata": {},
     "output_type": "execute_result"
    }
   ],
   "source": [
    "# Original\n",
    "from sklearn.model_selection import RandomizedSearchCV\n",
    "from random import choice\n",
    "LR=LogisticRegression(penalty=\"l2\", solver=\"liblinear\", C=0.8, max_iter=100)\n",
    "LR1= LR.fit(Xtrain,Ytrain)\n",
    "y_pred=LR1.predict(Xtest)\n",
    "LR1.score(Xtest,Ytest)"
   ]
  },
  {
   "cell_type": "code",
   "execution_count": 29,
   "id": "b9f99cf7",
   "metadata": {},
   "outputs": [
    {
     "data": {
      "text/plain": [
       "0.6656166707051127"
      ]
     },
     "execution_count": 29,
     "metadata": {},
     "output_type": "execute_result"
    }
   ],
   "source": [
    "# Sub-sample\n",
    "LRn=LogisticRegression(penalty=\"l2\", solver=\"liblinear\", C=0.8, max_iter=100)\n",
    "LR1n= LR.fit(XtrainN,YtrainN)\n",
    "yn_pred=LR1.predict(XtestN)\n",
    "LR1n.score(XtestN,YtestN)"
   ]
  },
  {
   "cell_type": "code",
   "execution_count": 30,
   "id": "292e5842",
   "metadata": {},
   "outputs": [],
   "source": [
    "from sklearn.model_selection import GridSearchCV\n",
    "parameters = {\"penalty\":(\"l1\",\"l2\"),\n",
    "              \"C\":np.linspace(0,1,10),\n",
    "              \"solver\":(\"newton-cg\",\"lbfgs\",\"liblinear\",\"sag\",\"saga\",\"warn\")}\n",
    "LR2=LogisticRegression()"
   ]
  },
  {
   "cell_type": "code",
   "execution_count": 31,
   "id": "9cf42d19",
   "metadata": {},
   "outputs": [
    {
     "data": {
      "text/plain": [
       "GridSearchCV(cv=10, estimator=LogisticRegression(C=0.8, solver='liblinear'),\n",
       "             param_grid={'C': array([0.        , 0.11111111, 0.22222222, 0.33333333, 0.44444444,\n",
       "       0.55555556, 0.66666667, 0.77777778, 0.88888889, 1.        ]),\n",
       "                         'penalty': ('l1', 'l2'),\n",
       "                         'solver': ('newton-cg', 'lbfgs', 'liblinear', 'sag',\n",
       "                                    'saga', 'warn')})"
      ]
     },
     "execution_count": 31,
     "metadata": {},
     "output_type": "execute_result"
    }
   ],
   "source": [
    "import warnings\n",
    "warnings.filterwarnings('ignore')\n",
    "GS = GridSearchCV(LR1, parameters, cv=10)\n",
    "GS.fit(Xtrain,Ytrain)"
   ]
  },
  {
   "cell_type": "code",
   "execution_count": 32,
   "id": "22f88ea7",
   "metadata": {},
   "outputs": [
    {
     "name": "stdout",
     "output_type": "stream",
     "text": [
      "{'C': 0.2222222222222222, 'penalty': 'l2', 'solver': 'liblinear'}\n",
      "0.7964392261210366\n"
     ]
    }
   ],
   "source": [
    "print(GS.best_params_)\n",
    "print(GS.best_score_)"
   ]
  },
  {
   "cell_type": "code",
   "execution_count": 33,
   "id": "cdb44021",
   "metadata": {},
   "outputs": [
    {
     "data": {
      "image/png": "[encoded data removed]",
      "text/plain": [
       "<Figure size 432x288 with 2 Axes>"
      ]
     },
     "metadata": {},
     "output_type": "display_data"
    }
   ],
   "source": [
    "cm = confusion_matrix(Ytest, y_pred)\n",
    "sns.set(font_scale=1.4)\n",
    "sns.heatmap(cm, annot=True, fmt=\"d\",cmap = \"Blues\")\n",
    "plt.show()"
   ]
  },
  {
   "cell_type": "code",
   "execution_count": 34,
   "id": "f31082ab",
   "metadata": {},
   "outputs": [
    {
     "name": "stdout",
     "output_type": "stream",
     "text": [
      "              precision    recall  f1-score   support\n",
      "\n",
      "           0   0.798409  0.976734  0.878615      7092\n",
      "           1   0.666667  0.158730  0.256410      2079\n",
      "\n",
      "    accuracy                       0.791299      9171\n",
      "   macro avg   0.732538  0.567732  0.567513      9171\n",
      "weighted avg   0.768544  0.791299  0.737566      9171\n",
      "\n"
     ]
    }
   ],
   "source": [
    "print(classification_report(Ytest, y_pred, digits=6))"
   ]
  },
  {
   "cell_type": "code",
   "execution_count": null,
   "id": "ed0349c7",
   "metadata": {},
   "outputs": [],
   "source": []
  }
 ],
 "metadata": {
  "kernelspec": {
   "display_name": "Python 3 (ipykernel)",
   "language": "python",
   "name": "python3"
  },
  "language_info": {
   "codemirror_mode": {
    "name": "ipython",
    "version": 3
   },
   "file_extension": ".py",
   "mimetype": "text/x-python",
   "name": "python",
   "nbconvert_exporter": "python",
   "pygments_lexer": "ipython3",
   "version": "3.9.7"
  }
 },
 "nbformat": 4,
 "nbformat_minor": 5
}
