{
 "cells": [
  {
   "cell_type": "code",
   "execution_count": null,
   "id": "78dbdd18",
   "metadata": {},
   "outputs": [],
   "source": [
    "import pandas as pd\n",
    "import numpy as np\n",
    "from matplotlib import  pyplot as plt\n",
    "from sklearn.model_selection import train_test_split\n",
    "from sklearn.linear_model import LogisticRegression\n",
    "from sklearn.model_selection import RandomizedSearchCV\n",
    "from sklearn.model_selection import cross_val_score\n",
    "from sklearn.preprocessing import StandardScaler    \n",
    "from sklearn.metrics import confusion_matrix\n",
    "import seaborn as sns\n",
    "from sklearn.metrics import classification_report\n",
    "\n",
    "data1 = pd.read_csv(\"/Users/manancy/Downloads/Nancy 2/工作/Carlo /尝试的业务/RisklabDataCompetition/1 Credit Card Debt Crisis/data1-Nancy.csv\")"
   ]
  },
  {
   "cell_type": "code",
   "execution_count": 11,
   "id": "db7d5287",
   "metadata": {},
   "outputs": [],
   "source": [
    "X=data1.drop(columns=\"July_Payment_Status\")\n",
    "y=data1[\"July_Payment_Status\"]\n",
    "Xtrain, Xtest, Ytrain, Ytest = train_test_split(X, y, test_size=0.3, random_state=30)"
   ]
  },
  {
   "cell_type": "code",
   "execution_count": 12,
   "id": "a9939478",
   "metadata": {},
   "outputs": [],
   "source": [
    "#data1.drop(columns=\"July_Payment_Status\")"
   ]
  },
  {
   "cell_type": "code",
   "execution_count": 13,
   "id": "01331a51",
   "metadata": {},
   "outputs": [
    {
     "data": {
      "text/plain": [
       "0.7947265199389846"
      ]
     },
     "execution_count": 13,
     "metadata": {},
     "output_type": "execute_result"
    }
   ],
   "source": [
    "from sklearn.model_selection import RandomizedSearchCV\n",
    "from random import choice\n",
    "LR=LogisticRegression(penalty=\"l2\", solver=\"liblinear\", C=0.8, max_iter=100)\n",
    "LR1= LR.fit(Xtrain,Ytrain)\n",
    "y_pred=LR1.predict(Xtest)\n",
    "LR1.score(Xtest,Ytest)"
   ]
  },
  {
   "cell_type": "code",
   "execution_count": 14,
   "id": "292e5842",
   "metadata": {},
   "outputs": [],
   "source": [
    "from sklearn.model_selection import GridSearchCV\n",
    "parameters = {\"penalty\":(\"l1\",\"l2\"),\n",
    "              \"C\":np.linspace(0,1,10),\n",
    "              \"solver\":(\"newton-cg\",\"lbfgs\",\"liblinear\",\"sag\",\"saga\",\"warn\")}\n",
    "LR2=LogisticRegression()"
   ]
  },
  {
   "cell_type": "code",
   "execution_count": null,
   "id": "9cf42d19",
   "metadata": {},
   "outputs": [],
   "source": [
    "GS = GridSearchCV(LR1, parameters, cv=10)\n",
    "GS.fit(Xtrain,Ytrain)"
   ]
  },
  {
   "cell_type": "code",
   "execution_count": 10,
   "id": "22f88ea7",
   "metadata": {},
   "outputs": [
    {
     "name": "stdout",
     "output_type": "stream",
     "text": [
      "{'C': 0.8888888888888888, 'penalty': 'l2', 'solver': 'liblinear'}\n",
      "0.7930327198604805\n"
     ]
    }
   ],
   "source": [
    "print(GS.best_params_)\n",
    "print(GS.best_score_)"
   ]
  },
  {
   "cell_type": "code",
   "execution_count": 21,
   "id": "cdb44021",
   "metadata": {},
   "outputs": [
    {
     "data": {
      "image/png": "[encoded data removed]",
      "text/plain": [
       "<Figure size 432x288 with 2 Axes>"
      ]
     },
     "metadata": {},
     "output_type": "display_data"
    }
   ],
   "source": [
    "cm = confusion_matrix(Ytest, y_pred)\n",
    "sns.set(font_scale=1.4)\n",
    "sns.heatmap(cm, annot=True, fmt=\"d\",cmap = \"Blues\")\n",
    "plt.show()"
   ]
  },
  {
   "cell_type": "code",
   "execution_count": 19,
   "id": "f31082ab",
   "metadata": {},
   "outputs": [
    {
     "name": "stdout",
     "output_type": "stream",
     "text": [
      "              precision    recall  f1-score   support\n",
      "\n",
      "           0   0.799747  0.979698  0.880623      7093\n",
      "           1   0.705521  0.165468  0.268065      2085\n",
      "\n",
      "    accuracy                       0.794727      9178\n",
      "   macro avg   0.752634  0.572583  0.574344      9178\n",
      "weighted avg   0.778341  0.794727  0.741466      9178\n",
      "\n"
     ]
    }
   ],
   "source": [
    "print(classification_report(Ytest, y_pred, digits=6))"
   ]
  },
  {
   "cell_type": "code",
   "execution_count": null,
   "id": "ed0349c7",
   "metadata": {},
   "outputs": [],
   "source": []
  }
 ],
 "metadata": {
  "kernelspec": {
   "display_name": "Python 3 (ipykernel)",
   "language": "python",
   "name": "python3"
  },
  "language_info": {
   "codemirror_mode": {
    "name": "ipython",
    "version": 3
   },
   "file_extension": ".py",
   "mimetype": "text/x-python",
   "name": "python",
   "nbconvert_exporter": "python",
   "pygments_lexer": "ipython3",
   "version": "3.9.7"
  }
 },
 "nbformat": 4,
 "nbformat_minor": 5
}
