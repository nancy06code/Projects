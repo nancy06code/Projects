{
 "cells": [
  {
   "cell_type": "markdown",
   "id": "75a3ad83",
   "metadata": {},
   "source": [
    "# KNN"
   ]
  },
  {
   "cell_type": "code",
   "execution_count": 17,
   "id": "f2ffb898",
   "metadata": {},
   "outputs": [],
   "source": [
    "import pandas as pd\n",
    "from sklearn.neighbors import KNeighborsClassifier as KNN\n",
    "from sklearn.model_selection import train_test_split\n",
    "from sklearn import metrics \n",
    "import matplotlib.pyplot as plt\n",
    "from sklearn.metrics import confusion_matrix\n",
    "import seaborn as sns\n",
    "from sklearn.metrics import classification_report\n",
    "data = pd.read_csv(\"/Users/manancy/Downloads/Nancy 2/Python/Jupyter/Projects/2 Titanic/data1-Nancy.csv\")"
   ]
  },
  {
   "cell_type": "code",
   "execution_count": 10,
   "id": "39629914",
   "metadata": {},
   "outputs": [],
   "source": [
    "x = data.iloc[:,data.columns !='Survived']      \n",
    "y = data.iloc[:,data.columns == 'Survived']      \n",
    "\n",
    "Xtrain,Xtest, Ytrain,Ytest = train_test_split(x,y,test_size=0.3)        \n",
    "#print(Xtrain)\n",
    "\n",
    "for i in [Xtrain,Xtest, Ytrain,Ytest]:\n",
    "    i.index = range(i.shape[0])     "
   ]
  },
  {
   "cell_type": "code",
   "execution_count": 14,
   "id": "da2d71c3",
   "metadata": {},
   "outputs": [
    {
     "name": "stderr",
     "output_type": "stream",
     "text": [
      "/opt/anaconda3/lib/python3.9/site-packages/sklearn/neighbors/_classification.py:179: DataConversionWarning: A column-vector y was passed when a 1d array was expected. Please change the shape of y to (n_samples,), for example using ravel().\n",
      "  return self._fit(X, y)\n"
     ]
    },
    {
     "data": {
      "text/plain": [
       "0.6292134831460674"
      ]
     },
     "execution_count": 14,
     "metadata": {},
     "output_type": "execute_result"
    }
   ],
   "source": [
    "knn=KNN() \n",
    "knn=knn.fit(Xtrain,Ytrain)\n",
    "y_pred=knn.predict(Xtest)\n",
    "score=knn.score(Xtest,Ytest)\n",
    "score"
   ]
  },
  {
   "cell_type": "code",
   "execution_count": 18,
   "id": "5828c479",
   "metadata": {},
   "outputs": [
    {
     "data": {
      "image/png": "[encoded data removed]",
      "text/plain": [
       "<Figure size 432x288 with 2 Axes>"
      ]
     },
     "metadata": {},
     "output_type": "display_data"
    }
   ],
   "source": [
    "cm = confusion_matrix(Ytest, y_pred)\n",
    "sns.set(font_scale=1.4)\n",
    "sns.heatmap(cm, annot=True, fmt=\"d\",cmap = \"Blues\")\n",
    "plt.show()"
   ]
  },
  {
   "cell_type": "code",
   "execution_count": 19,
   "id": "104a718d",
   "metadata": {},
   "outputs": [
    {
     "name": "stdout",
     "output_type": "stream",
     "text": [
      "              precision    recall  f1-score   support\n",
      "\n",
      "           0   0.671875  0.781818  0.722689       165\n",
      "           1   0.520000  0.382353  0.440678       102\n",
      "\n",
      "    accuracy                       0.629213       267\n",
      "   macro avg   0.595938  0.582086  0.581684       267\n",
      "weighted avg   0.613855  0.629213  0.614954       267\n",
      "\n"
     ]
    }
   ],
   "source": [
    "print(classification_report(Ytest, y_pred, digits=6))"
   ]
  },
  {
   "cell_type": "code",
   "execution_count": null,
   "id": "5cf084d3",
   "metadata": {},
   "outputs": [],
   "source": []
  }
 ],
 "metadata": {
  "kernelspec": {
   "display_name": "Python 3 (ipykernel)",
   "language": "python",
   "name": "python3"
  },
  "language_info": {
   "codemirror_mode": {
    "name": "ipython",
    "version": 3
   },
   "file_extension": ".py",
   "mimetype": "text/x-python",
   "name": "python",
   "nbconvert_exporter": "python",
   "pygments_lexer": "ipython3",
   "version": "3.9.7"
  }
 },
 "nbformat": 4,
 "nbformat_minor": 5
}
