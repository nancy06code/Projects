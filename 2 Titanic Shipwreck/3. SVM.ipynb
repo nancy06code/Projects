{
 "cells": [
  {
   "cell_type": "markdown",
   "id": "50211f93",
   "metadata": {},
   "source": [
    "# SVM"
   ]
  },
  {
   "cell_type": "code",
   "execution_count": 1,
   "id": "cd881910",
   "metadata": {},
   "outputs": [],
   "source": [
    "import pandas as pd\n",
    "from sklearn import svm\n",
    "from sklearn.model_selection import train_test_split\n",
    "from sklearn.model_selection import cross_val_score\n",
    "import matplotlib.pyplot as plt\n",
    "from sklearn.model_selection import GridSearchCV\n",
    "from sklearn.metrics import confusion_matrix\n",
    "import seaborn as sns\n",
    "from sklearn.metrics import classification_report\n",
    "\n",
    "data = pd.read_csv(\"/Users/manancy/Downloads/Nancy 2/Python/Jupyter/Projects/2 Titanic/data1-Nancy.csv\")"
   ]
  },
  {
   "cell_type": "code",
   "execution_count": 2,
   "id": "15a23ec8",
   "metadata": {},
   "outputs": [],
   "source": [
    "x = data.iloc[:,data.columns !='Survived']      \n",
    "y = data.iloc[:,data.columns == 'Survived']  \n",
    "\n",
    "Xtrain,Xtest, Ytrain,Ytest = train_test_split(x,y,test_size=0.3)        \n",
    "#print(Xtrain)\n",
    "\n",
    "for i in [Xtrain,Xtest, Ytrain,Ytest]:\n",
    "    i.index = range(i.shape[0]) "
   ]
  },
  {
   "cell_type": "code",
   "execution_count": 4,
   "id": "3fa064f1",
   "metadata": {},
   "outputs": [
    {
     "name": "stderr",
     "output_type": "stream",
     "text": [
      "/opt/anaconda3/lib/python3.9/site-packages/sklearn/utils/validation.py:63: DataConversionWarning: A column-vector y was passed when a 1d array was expected. Please change the shape of y to (n_samples, ), for example using ravel().\n",
      "  return f(*args, **kwargs)\n"
     ]
    },
    {
     "data": {
      "text/plain": [
       "0.8089887640449438"
      ]
     },
     "execution_count": 4,
     "metadata": {},
     "output_type": "execute_result"
    }
   ],
   "source": [
    "SVM=svm.SVC(kernel='linear')\n",
    "SVM=SVM.fit(Xtrain,Ytrain)\n",
    "y_pred=SVM.predict(Xtest)\n",
    "score=SVM.score(Xtest,Ytest)\n",
    "score"
   ]
  },
  {
   "cell_type": "code",
   "execution_count": 5,
   "id": "88d41a5b",
   "metadata": {},
   "outputs": [
    {
     "data": {
      "image/png": "[encoded data removed]",
      "text/plain": [
       "<Figure size 432x288 with 2 Axes>"
      ]
     },
     "metadata": {},
     "output_type": "display_data"
    }
   ],
   "source": [
    "cm = confusion_matrix(Ytest, y_pred)\n",
    "sns.set(font_scale=1.4)\n",
    "sns.heatmap(cm, annot=True, fmt=\"d\",cmap = \"Blues\")\n",
    "plt.show()"
   ]
  },
  {
   "cell_type": "code",
   "execution_count": 6,
   "id": "a61a9920",
   "metadata": {},
   "outputs": [
    {
     "name": "stdout",
     "output_type": "stream",
     "text": [
      "              precision    recall  f1-score   support\n",
      "\n",
      "           0   0.807487  0.909639  0.855524       166\n",
      "           1   0.812500  0.643564  0.718232       101\n",
      "\n",
      "    accuracy                       0.808989       267\n",
      "   macro avg   0.809993  0.776601  0.786878       267\n",
      "weighted avg   0.809383  0.808989  0.803590       267\n",
      "\n"
     ]
    }
   ],
   "source": [
    "print(classification_report(Ytest, y_pred, digits=6))"
   ]
  },
  {
   "cell_type": "code",
   "execution_count": null,
   "id": "a5d2706d",
   "metadata": {},
   "outputs": [],
   "source": []
  }
 ],
 "metadata": {
  "kernelspec": {
   "display_name": "Python 3 (ipykernel)",
   "language": "python",
   "name": "python3"
  },
  "language_info": {
   "codemirror_mode": {
    "name": "ipython",
    "version": 3
   },
   "file_extension": ".py",
   "mimetype": "text/x-python",
   "name": "python",
   "nbconvert_exporter": "python",
   "pygments_lexer": "ipython3",
   "version": "3.9.7"
  }
 },
 "nbformat": 4,
 "nbformat_minor": 5
}
